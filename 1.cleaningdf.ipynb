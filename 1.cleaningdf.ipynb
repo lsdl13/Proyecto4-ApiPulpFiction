{
 "cells": [
  {
   "cell_type": "code",
   "execution_count": 1,
   "id": "5b45f09c",
   "metadata": {},
   "outputs": [],
   "source": [
    "from flask import Flask,request\n",
    "import json\n",
    "import pandas as pd"
   ]
  },
  {
   "cell_type": "code",
   "execution_count": 2,
   "id": "cbe133f1",
   "metadata": {},
   "outputs": [],
   "source": [
    "import json"
   ]
  },
  {
   "cell_type": "code",
   "execution_count": 3,
   "id": "97ed337f",
   "metadata": {},
   "outputs": [],
   "source": [
    "import pandas as pd"
   ]
  },
  {
   "cell_type": "code",
   "execution_count": 4,
   "id": "90262df7",
   "metadata": {
    "scrolled": true
   },
   "outputs": [],
   "source": [
    "df_v1 = pd.read_csv(\"/Users/luissanchezdeleon/ironhack/Proyecto4/data/psd.csv\", index_col=1,encoding='latin-1')\n",
    "df_v1= df_v1.reset_index()\n",
    "df_v1.rename(columns = {\"Character (actual)\" : 'Character'}, inplace = True)"
   ]
  },
  {
   "cell_type": "code",
   "execution_count": 5,
   "id": "a478002f",
   "metadata": {},
   "outputs": [],
   "source": [
    "df_v1 = df_v1.drop([\"Off screen\",\"Voice-over\",\"Character (in script)\"], axis = 1)"
   ]
  },
  {
   "cell_type": "code",
   "execution_count": 6,
   "id": "7a728fed",
   "metadata": {},
   "outputs": [
    {
     "data": {
      "text/html": [
       "<div>\n",
       "<style scoped>\n",
       "    .dataframe tbody tr th:only-of-type {\n",
       "        vertical-align: middle;\n",
       "    }\n",
       "\n",
       "    .dataframe tbody tr th {\n",
       "        vertical-align: top;\n",
       "    }\n",
       "\n",
       "    .dataframe thead th {\n",
       "        text-align: right;\n",
       "    }\n",
       "</style>\n",
       "<table border=\"1\" class=\"dataframe\">\n",
       "  <thead>\n",
       "    <tr style=\"text-align: right;\">\n",
       "      <th></th>\n",
       "      <th>Line number</th>\n",
       "      <th>Character</th>\n",
       "      <th>Place</th>\n",
       "      <th>Time</th>\n",
       "      <th>Line</th>\n",
       "      <th>Word count</th>\n",
       "    </tr>\n",
       "  </thead>\n",
       "  <tbody>\n",
       "    <tr>\n",
       "      <th>0</th>\n",
       "      <td>1</td>\n",
       "      <td>Pumpkin</td>\n",
       "      <td>int. coffee shop</td>\n",
       "      <td>morning</td>\n",
       "      <td>No, forget it, it's too risky. I'm through doi...</td>\n",
       "      <td>11</td>\n",
       "    </tr>\n",
       "    <tr>\n",
       "      <th>1</th>\n",
       "      <td>2</td>\n",
       "      <td>Honey Bunny</td>\n",
       "      <td>int. coffee shop</td>\n",
       "      <td>morning</td>\n",
       "      <td>You always say that, the same thing every time...</td>\n",
       "      <td>15</td>\n",
       "    </tr>\n",
       "    <tr>\n",
       "      <th>2</th>\n",
       "      <td>3</td>\n",
       "      <td>Pumpkin</td>\n",
       "      <td>int. coffee shop</td>\n",
       "      <td>morning</td>\n",
       "      <td>I know that's what I always say. I'm always ri...</td>\n",
       "      <td>12</td>\n",
       "    </tr>\n",
       "    <tr>\n",
       "      <th>3</th>\n",
       "      <td>4</td>\n",
       "      <td>Honey Bunny</td>\n",
       "      <td>int. coffee shop</td>\n",
       "      <td>morning</td>\n",
       "      <td>â but you forget about it in a day or two -</td>\n",
       "      <td>10</td>\n",
       "    </tr>\n",
       "    <tr>\n",
       "      <th>4</th>\n",
       "      <td>5</td>\n",
       "      <td>Pumpkin</td>\n",
       "      <td>int. coffee shop</td>\n",
       "      <td>morning</td>\n",
       "      <td>â yeah, well, the days of me forgittin' are ...</td>\n",
       "      <td>18</td>\n",
       "    </tr>\n",
       "    <tr>\n",
       "      <th>5</th>\n",
       "      <td>6</td>\n",
       "      <td>Honey Bunny</td>\n",
       "      <td>int. coffee shop</td>\n",
       "      <td>morning</td>\n",
       "      <td>When you go on like this, you know what you so...</td>\n",
       "      <td>12</td>\n",
       "    </tr>\n",
       "    <tr>\n",
       "      <th>6</th>\n",
       "      <td>7</td>\n",
       "      <td>Pumpkin</td>\n",
       "      <td>int. coffee shop</td>\n",
       "      <td>morning</td>\n",
       "      <td>I sound like a sensible fucking man, is what I...</td>\n",
       "      <td>12</td>\n",
       "    </tr>\n",
       "    <tr>\n",
       "      <th>7</th>\n",
       "      <td>8</td>\n",
       "      <td>Honey Bunny</td>\n",
       "      <td>int. coffee shop</td>\n",
       "      <td>morning</td>\n",
       "      <td>You sound like a duck. Quack, quack, quack, qu...</td>\n",
       "      <td>12</td>\n",
       "    </tr>\n",
       "    <tr>\n",
       "      <th>8</th>\n",
       "      <td>9</td>\n",
       "      <td>Pumpkin</td>\n",
       "      <td>int. coffee shop</td>\n",
       "      <td>morning</td>\n",
       "      <td>Well take heart, 'cause you're never gonna haf...</td>\n",
       "      <td>34</td>\n",
       "    </tr>\n",
       "    <tr>\n",
       "      <th>9</th>\n",
       "      <td>10</td>\n",
       "      <td>Honey Bunny</td>\n",
       "      <td>int. coffee shop</td>\n",
       "      <td>morning</td>\n",
       "      <td>After tonight.</td>\n",
       "      <td>2</td>\n",
       "    </tr>\n",
       "  </tbody>\n",
       "</table>\n",
       "</div>"
      ],
      "text/plain": [
       "   Line number    Character             Place     Time  \\\n",
       "0            1      Pumpkin  int. coffee shop  morning   \n",
       "1            2  Honey Bunny  int. coffee shop  morning   \n",
       "2            3      Pumpkin  int. coffee shop  morning   \n",
       "3            4  Honey Bunny  int. coffee shop  morning   \n",
       "4            5      Pumpkin  int. coffee shop  morning   \n",
       "5            6  Honey Bunny  int. coffee shop  morning   \n",
       "6            7      Pumpkin  int. coffee shop  morning   \n",
       "7            8  Honey Bunny  int. coffee shop  morning   \n",
       "8            9      Pumpkin  int. coffee shop  morning   \n",
       "9           10  Honey Bunny  int. coffee shop  morning   \n",
       "\n",
       "                                                Line  Word count  \n",
       "0  No, forget it, it's too risky. I'm through doi...          11  \n",
       "1  You always say that, the same thing every time...          15  \n",
       "2  I know that's what I always say. I'm always ri...          12  \n",
       "3      â but you forget about it in a day or two -          10  \n",
       "4  â yeah, well, the days of me forgittin' are ...          18  \n",
       "5  When you go on like this, you know what you so...          12  \n",
       "6  I sound like a sensible fucking man, is what I...          12  \n",
       "7  You sound like a duck. Quack, quack, quack, qu...          12  \n",
       "8  Well take heart, 'cause you're never gonna haf...          34  \n",
       "9                                     After tonight.           2  "
      ]
     },
     "execution_count": 6,
     "metadata": {},
     "output_type": "execute_result"
    }
   ],
   "source": [
    "df_v1.head(10)"
   ]
  },
  {
   "cell_type": "code",
   "execution_count": 7,
   "id": "b2c9fcb3",
   "metadata": {},
   "outputs": [],
   "source": [
    "df_v1.to_csv(r'/Users/luissanchezdeleon/ironhack/Proyecto4/data/df.csv', index = False)"
   ]
  },
  {
   "cell_type": "code",
   "execution_count": 8,
   "id": "0c48a3c6",
   "metadata": {},
   "outputs": [],
   "source": [
    "df_v1.to_json(r'/Users/luissanchezdeleon/ironhack/Proyecto4/data/df_json', orient=\"records\")"
   ]
  },
  {
   "cell_type": "code",
   "execution_count": 9,
   "id": "675cbd5f",
   "metadata": {},
   "outputs": [],
   "source": [
    "from pymongo import MongoClient"
   ]
  },
  {
   "cell_type": "code",
   "execution_count": 10,
   "id": "99163045",
   "metadata": {},
   "outputs": [],
   "source": [
    "client = MongoClient(\"localhost:27017\")\n",
    "db = client.get_database(\"PulpFiction\")"
   ]
  },
  {
   "cell_type": "code",
   "execution_count": 21,
   "id": "349197ba",
   "metadata": {},
   "outputs": [],
   "source": [
    "#mongoimport --db PulpFiction --collection pfscript --file ~/Users/luissanchezdeleon/ironhack/Proyecto4/data/df_json.json"
   ]
  },
  {
   "cell_type": "code",
   "execution_count": 13,
   "id": "5431990b",
   "metadata": {},
   "outputs": [
    {
     "data": {
      "text/plain": [
       "array(['Pumpkin', 'Honey Bunny', 'Waitress', 'Jules', 'Vincent', 'Brett',\n",
       "       'Marvin', 'Roger', 'Marsellus', 'Butch', 'English Dave', 'Jody',\n",
       "       'Trudi', 'Lance', 'Mia', 'Buddy', 'Ed Sullivan',\n",
       "       'Preacher (Emil Simkus)', 'Mother', 'Capt. Koons', 'Klondike',\n",
       "       'Sportscaster #1', 'Sportscaster #2', 'Esmarelda', 'Fabienne',\n",
       "       'Pedestrian', 'Gawker #1', 'Gawker #2', 'Looky-loo woman',\n",
       "       'Maynard', 'Zed', 'The Gimp', 'Fourth man', 'Jimmie', 'The Wolf',\n",
       "       'Raquel', 'Manager'], dtype=object)"
      ]
     },
     "execution_count": 13,
     "metadata": {},
     "output_type": "execute_result"
    }
   ],
   "source": [
    "df_v1.Character.unique()"
   ]
  },
  {
   "cell_type": "code",
   "execution_count": 14,
   "id": "4ab89fb6",
   "metadata": {},
   "outputs": [
    {
     "data": {
      "text/plain": [
       "array(['int. coffee shop', \"int. '74 Chevy (moving)\",\n",
       "       'int. Chevy (trunk)', 'ext. apartment building courtyard',\n",
       "       'int. reception area (apartment building)', 'int. elevator',\n",
       "       'int. apartment building hallway', 'int. apartment (room 49)',\n",
       "       \"ext. Sally LeRoy's\", \"int. Sally LeRoy's\",\n",
       "       \"int. Lance's house (kitchen)\", \"int. Lance's bedroom\",\n",
       "       \"ext. Marsellus Wallace's house\",\n",
       "       \"int. Marsellus' house / living room\",\n",
       "       \"int. Marsellus' house / dressing room\", \"ext. Jackrabbit Slim's\",\n",
       "       \"int. Jackrabbit Slim's\", \"int. Jackrabbit Slim's (ladies room)\",\n",
       "       \"int. Jackrabbit Slim's (dining area)\",\n",
       "       \"int. Marsellus Wallace's home\",\n",
       "       \"int. bathroom (Marsellus Wallace's house)\", \"int. Lance's house\",\n",
       "       \"int. Vincent's malibu (moving)\", \"ext. Lance's house\",\n",
       "       'living room', 'int. spare room',\n",
       "       \"ext. front of Marsellus Wallace's house\", 'int. locker room',\n",
       "       'ext. alley (raining)', 'int. taxi (parked / raining)',\n",
       "       'int. Willis locker room (auditorium)',\n",
       "       'int. cab (moving / raining)', 'ext. phone booth (raining)',\n",
       "       'ext. motel (stopped / raining)', 'int. motel (room six)',\n",
       "       'int. Honda (moving)', \"int. Butch's apartment\", 'int. Honda',\n",
       "       'int. Mason-Dixie pawnshop', 'int. pawnshop back room',\n",
       "       \"int. Russell's old room\", 'ext. motel room', 'int. bathroom',\n",
       "       'int. Nova (moving)', \"int. Jimmie's kitchen\",\n",
       "       \"int. Marsellus Wallace's dining room\", \"int. Jimmie's bedroom\",\n",
       "       'int. hotel suite', \"int. Jimmie's house\", \"int. Jimmie's garage\",\n",
       "       'int. kitchen', 'int. garage', 'int. Chevy Nova',\n",
       "       \"ext. Jimmie's backyard\", \"ext. Monster Joe's Truck and Tow\"],\n",
       "      dtype=object)"
      ]
     },
     "execution_count": 14,
     "metadata": {},
     "output_type": "execute_result"
    }
   ],
   "source": [
    "df_v1.Place.unique()"
   ]
  },
  {
   "cell_type": "code",
   "execution_count": 15,
   "id": "e7dae197",
   "metadata": {},
   "outputs": [
    {
     "data": {
      "text/plain": [
       "array(['morning', 'day', 'night'], dtype=object)"
      ]
     },
     "execution_count": 15,
     "metadata": {},
     "output_type": "execute_result"
    }
   ],
   "source": [
    "df_v1.Time.unique()"
   ]
  }
 ],
 "metadata": {
  "kernelspec": {
   "display_name": "ironhack",
   "language": "python",
   "name": "ironhack"
  },
  "language_info": {
   "codemirror_mode": {
    "name": "ipython",
    "version": 3
   },
   "file_extension": ".py",
   "mimetype": "text/x-python",
   "name": "python",
   "nbconvert_exporter": "python",
   "pygments_lexer": "ipython3",
   "version": "3.8.5"
  }
 },
 "nbformat": 4,
 "nbformat_minor": 5
}
